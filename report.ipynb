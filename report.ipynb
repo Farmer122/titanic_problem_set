{
 "cells": [
  {
   "cell_type": "markdown",
   "metadata": {},
   "source": [
    "## Report Notebook "
   ]
  },
  {
   "cell_type": "code",
   "execution_count": null,
   "metadata": {},
   "outputs": [],
   "source": [
    "from pathlib import Path\n",
    "\n",
    "figures_path = Path(\"figures\")\n"
   ]
  },
  {
   "cell_type": "markdown",
   "metadata": {},
   "source": [
    "<p align=\"center\">\n",
    "  <img src=\"figures/Number_of_Passengers_Sex.png\" alt=\"Number of Passengers by Sex\" width=\"800\">\n",
    "</p>\n",
    "\n",
    "**Comment:** This bar chart shows the distribution of male and female passengers in the Titanic dataset's training and test sets. We can see that `Sex=male` is more frequent in the dataset. If gender is a strong predictor of survival, this imbalance could introduce bias into our model's training.\n",
    "\n",
    "\n"
   ]
  },
  {
   "cell_type": "markdown",
   "metadata": {},
   "source": [
    "<p align=\"center\">\n",
    "  <img src=\"figures/Number_of_Passengers_Fare_Interval.png\" alt=\"Number of Passengers by Fare Interval\" width=\"800\">\n",
    "</p>\n",
    "\n",
    "**Comment:** This bar chart shows the distribution of passengers across different fare intervals, categorised by survival status. We observe that higher fare intervals (2.0 and 3.0) are associated with a greater proportion of survivors compared to lower fares. This suggests that fare may be a valuable feature for survival prediction, potentially reflecting factors such as seating location (which could mean less congested escape routes and proximity to lifeboats) or access to resources that increased survival chances (Oxygen tanks etc.). Including fare as a feature in our model could help capture these underlying patterns linked to passenger survival.\n"
   ]
  },
  {
   "cell_type": "markdown",
   "metadata": {},
   "source": [
    "<p align=\"center\">\n",
    "  <img src=\"figures/Number_of_Passengers_Fare_Interval_Pclass.png\" alt=\"Number of Passengers by Fare Interval and Pclass\" width=\"800\">\n",
    "</p>\n",
    "\n",
    "**Comment:** This bar chart shows the distribution of passengers across fare intervals, grouped by passenger class (Pclass). We observe that lower fare intervals (0.0 and 1.0) are dominated by third-class passengers, while the highest fare interval (3.0) consists mostly of first-class passengers. This pattern indicates a strong relationship between fare and passenger class, which in turn may be correlated with survival chances. The argument is as follows higher classes are typically wealthier individuals who are likely to have had better access to survivial resources e.g. lifeboat and were self selected into 'safer' locations on the ship. Including both fare and Pclass as features in our model could improve its predictive accuracy by capturing this 'wealth' dimension of survival likelihood.\n"
   ]
  },
  {
   "cell_type": "markdown",
   "metadata": {},
   "source": [
    "<p align=\"center\">\n",
    "  <img src=\"figures/Number_of_Passengers_Family_Size.png\" alt=\"Number of Passengers by Family Size\" width=\"800\">\n",
    "</p>\n",
    "\n",
    "**Comment:** This bar chart shows the count of passengers by family size, categorised by survival status. Passengers travelling alone (family size of 1) are the most numerous and have a relatively low survival rate. Smaller family sizes (1–3) appear to have a higher likelihood of survival compared to larger family groups, where survival rates tend to drop as family size increases. This suggests that family size could be an important predictor for survival. It may be that due to resource and time constraints larger families found it more difficult to collectively organise themselves and the neccesary survival resources quickly enough when compared to smaller families.  Including family size as a feature may help the model capture these patterns effectively.\n",
    "\n"
   ]
  },
  {
   "cell_type": "markdown",
   "metadata": {},
   "source": [
    "<p align=\"center\">\n",
    "  <img src=\"figures/Distribution_of_Age_Fare_by_Survival.png\" alt=\"Distribution of Age and Fare by Survival\" width=\"1200\">\n",
    "</p>\n",
    "\n",
    "**Comment:** The follwoing histograms display the distribution of passengers by age (left) and fare (right), by survival status. In the age distribution, we see a notable survival rate among younger passengers, suggesting age could be an important predictor, possibly reflecting prioritisation of younger passengers during the evacuation. For the fare distribution, survivors are more prevalent in the lower fare range, but with a higher survival proportion among those with higher fares. Both age and fare appear relevant for survival prediction.\n"
   ]
  }
 ],
 "metadata": {
  "kernelspec": {
   "display_name": "Python 3",
   "language": "python",
   "name": "python3"
  },
  "language_info": {
   "codemirror_mode": {
    "name": "ipython",
    "version": 3
   },
   "file_extension": ".py",
   "mimetype": "text/x-python",
   "name": "python",
   "nbconvert_exporter": "python",
   "pygments_lexer": "ipython3",
   "version": "3.12.4"
  }
 },
 "nbformat": 4,
 "nbformat_minor": 2
}
